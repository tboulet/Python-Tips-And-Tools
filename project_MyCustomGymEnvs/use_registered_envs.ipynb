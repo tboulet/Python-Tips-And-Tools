{
 "cells": [
  {
   "cell_type": "code",
   "execution_count": 15,
   "metadata": {},
   "outputs": [
    {
     "name": "stdout",
     "output_type": "stream",
     "text": [
      "Resetting the environment RiverEnv-v1\n",
      "Resetting the environment RiverEnv-v1\n",
      "Resetting the environment RiverEnv-v1\n",
      "Resetting the environment RiverEnv-v1\n",
      "Resetting the environment RiverEnv-v1\n",
      "Resetting the environment RiverEnv-v1\n",
      "Resetting the environment RiverEnv-v1\n",
      "Resetting the environment RiverEnv-v1\n",
      "Resetting the environment RiverEnv-v1\n",
      "Resetting the environment RiverEnv-v1\n"
     ]
    }
   ],
   "source": [
    "# Import from custom package\n",
    "import gym\n",
    "from package_MyCustomGymEnvs.envs import RiverEnv_v0\n",
    "\n",
    "env = gym.make('River-v1')\n",
    "\n",
    "for _ in range(10):\n",
    "    env.reset()\n",
    "    for _ in range(100):\n",
    "        env.render()\n",
    "        env.step(env.action_space.sample()) # take a random action"
   ]
  },
  {
   "cell_type": "code",
   "execution_count": null,
   "metadata": {},
   "outputs": [],
   "source": []
  },
  {
   "cell_type": "code",
   "execution_count": null,
   "metadata": {},
   "outputs": [],
   "source": []
  }
 ],
 "metadata": {
  "kernelspec": {
   "display_name": "Python 3.10.6 64-bit",
   "language": "python",
   "name": "python3"
  },
  "language_info": {
   "codemirror_mode": {
    "name": "ipython",
    "version": 3
   },
   "file_extension": ".py",
   "mimetype": "text/x-python",
   "name": "python",
   "nbconvert_exporter": "python",
   "pygments_lexer": "ipython3",
   "version": "3.10.6"
  },
  "orig_nbformat": 4,
  "vscode": {
   "interpreter": {
    "hash": "916dbcbb3f70747c44a77c7bcd40155683ae19c65e1c03b4aa3499c5328201f1"
   }
  }
 },
 "nbformat": 4,
 "nbformat_minor": 2
}
