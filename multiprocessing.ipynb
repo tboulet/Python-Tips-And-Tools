{
 "cells": [
  {
   "cell_type": "code",
   "execution_count": 7,
   "metadata": {},
   "outputs": [],
   "source": [
    "from multiprocessing import Pool\n",
    "from time import time, sleep"
   ]
  },
  {
   "cell_type": "code",
   "execution_count": 9,
   "metadata": {},
   "outputs": [
    {
     "name": "stdout",
     "output_type": "stream",
     "text": [
      "2.8317458629608154\n"
     ]
    }
   ],
   "source": [
    "def f(x):\n",
    "    sleep(0.1)\n",
    "\n",
    "t_start = time()\n",
    "with Pool(4) as pool:\n",
    "    pool.map(f, range(100))\n",
    "    pool.imap(f, range(100))\n",
    "    \n",
    "t_end = time()\n",
    "print(t_end - t_start)"
   ]
  },
  {
   "cell_type": "markdown",
   "metadata": {},
   "source": [
    "### Pitfalls\n",
    "\n",
    "# Pickling errors\n",
    "MP can only pickle functions defined at the top level of a module. This means that you can't pickle a function defined inside another function. This is because the pickling process needs to be able to import the function by name.\n",
    "\n",
    "# Passing datas\n",
    "Prefer passing a message that informs the process to create the data on its own, rather than passing the data itself. This is because the data may be too large to pass.\n",
    "\n",
    "# Shared computations\n",
    "Not always a good idea to use MP to speed up computations. It may be better to use a single process and optimize the code. In particular if there is a lot of shared computations\n",
    "\n",
    "# Chunksize parameter\n",
    "The chunksize is the amount of items (unit of data) that a worker can take each time he needs. When chunksize increase, this increase performance but create memory issues.\n",
    "```python\n",
    "results = pool.map(f, data, chunksize=chunksize)\n",
    "```"
   ]
  }
 ],
 "metadata": {
  "kernelspec": {
   "display_name": "Python 3.10.6 64-bit",
   "language": "python",
   "name": "python3"
  },
  "language_info": {
   "codemirror_mode": {
    "name": "ipython",
    "version": 3
   },
   "file_extension": ".py",
   "mimetype": "text/x-python",
   "name": "python",
   "nbconvert_exporter": "python",
   "pygments_lexer": "ipython3",
   "version": "3.10.6"
  },
  "orig_nbformat": 4,
  "vscode": {
   "interpreter": {
    "hash": "916dbcbb3f70747c44a77c7bcd40155683ae19c65e1c03b4aa3499c5328201f1"
   }
  }
 },
 "nbformat": 4,
 "nbformat_minor": 2
}
