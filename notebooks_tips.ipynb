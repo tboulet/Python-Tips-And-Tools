{
 "cells": [
  {
   "cell_type": "markdown",
   "metadata": {},
   "source": [
    "# Auto reload\n",
    "\n",
    "### Put this at the beginning of each nb\n",
    "%load_ext autoreload\n",
    "%autoreload 2\n",
    "\n",
    "### Or modify definitely your config so that you dont have to type any line\n",
    "If ~/.ipython/profile_default/ipython_config.py does not exist :\n",
    "\n",
    "ipython profile create\n",
    "\n",
    "Then modify ~/.ipython/profile_default/ipython_config.py to append :\n",
    "\n",
    "c.InteractiveShellApp.extensions = ['autoreload']     \n",
    "c.InteractiveShellApp.exec_lines = ['%autoreload 2']"
   ]
  }
 ],
 "metadata": {
  "kernelspec": {
   "display_name": "Python 3.10.6 64-bit",
   "language": "python",
   "name": "python3"
  },
  "language_info": {
   "codemirror_mode": {
    "name": "ipython",
    "version": 3
   },
   "file_extension": ".py",
   "mimetype": "text/x-python",
   "name": "python",
   "nbconvert_exporter": "python",
   "pygments_lexer": "ipython3",
   "version": "3.10.6"
  },
  "orig_nbformat": 4,
  "vscode": {
   "interpreter": {
    "hash": "916dbcbb3f70747c44a77c7bcd40155683ae19c65e1c03b4aa3499c5328201f1"
   }
  }
 },
 "nbformat": 4,
 "nbformat_minor": 2
}
