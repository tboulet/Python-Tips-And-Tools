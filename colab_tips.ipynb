{
 "cells": [
  {
   "cell_type": "code",
   "execution_count": null,
   "metadata": {},
   "outputs": [],
   "source": [
    "# Mount drive\n",
    "from google.colab import drive\n",
    "drive.mount('/content/drive')\n",
    "\n",
    "your_drive_path = '/content/drive/MyDrive/'\n",
    "folder_name = 'my_folder/'\n",
    "path_to_this_nb = your_drive_path + folder_name + 'colab_tips.ipynb'"
   ]
  },
  {
   "cell_type": "code",
   "execution_count": null,
   "metadata": {},
   "outputs": [],
   "source": [
    "# Getter commands\n",
    "!wget <url> # get DS from url\n",
    "!pip install <package> # install python package\n",
    "!apt-get install <package> # install package\n",
    "!python <file.py> # run python file\n",
    "!git clone <url> # clone git repo"
   ]
  },
  {
   "cell_type": "code",
   "execution_count": null,
   "metadata": {},
   "outputs": [],
   "source": [
    "# Files\n",
    "from google.colab import files\n",
    "files.upload() # upload file from local machine\n",
    "files.download(your_drive_path + 'filename') # download file to local machine"
   ]
  },
  {
   "cell_type": "markdown",
   "metadata": {},
   "source": [
    "# Shortcuts\n",
    "Undo last action (inside a cell): ctrl + m + z\n",
    "\n",
    "Find and replace: ctrl + m + h\n",
    "\n",
    "Insert code cell above: ctrl + m + a\n",
    "\n",
    "Insert code cell below: ctrl + m + b\n",
    "\n",
    "Delete cell: ctrl + m + d\n",
    "\n",
    "\n",
    "\n",
    "# Activate GPU and TPU\n",
    "Go to Runtime > Change runtime type > Hardware accelerator > GPU or TPU\n",
    "\n",
    "In French : Exécution > Modifier le type d'exécution > Accélérateur matériel > GPU ou TPU\n",
    "\n",
    "Test if GPU is activated on torch/tf:\n",
    "\n",
    "```python\n",
    "import tensorflow as tf\n",
    "tf.test.gpu_device_name()\n",
    "```\n",
    "\n",
    "```python\n",
    "import torch\n",
    "torch.cuda.is_available()\n",
    "```\n",
    "\n",
    "\n",
    "# Open nb from github\n",
    "Go to https://colab.research.google.com switch to the GitHub tab and enter the URL of the notebook\n",
    "\n",
    "Save a Colab notebook in a GitHub repository:\n",
    "Follow: “File” → “Save a copy in GitHub”. Once that is clicked it will ask for the authorization of your git account. Finally, you will be able to save the collaboratory notebook into the repository of your choice.\n",
    "\n",
    "\n",
    "# Stop colab from disconnecting\n",
    "Open your Chrome DevTools by pressing F12 or ctrl+shift+i on Linux and enter the following JavaScript snippet in your console:\n",
    "```bash\n",
    "function KeepClicking(){\n",
    "console.log(\"Clicking\");\n",
    "document.querySelector(\"colab-connect-button\").click()\n",
    "}\n",
    "setInterval(KeepClicking,60000)\n",
    "```\n",
    "\n",
    "Note : GPU usage will be granted for 12 hours, even less if you are unlucky.\n"
   ]
  },
  {
   "cell_type": "code",
   "execution_count": null,
   "metadata": {},
   "outputs": [],
   "source": []
  },
  {
   "cell_type": "code",
   "execution_count": null,
   "metadata": {},
   "outputs": [],
   "source": [
    "%load_ext google.colab.data_table\n",
    "%unload_ext google.colab.data_table"
   ]
  },
  {
   "cell_type": "code",
   "execution_count": null,
   "metadata": {},
   "outputs": [],
   "source": [
    "# Tensorboard\n",
    "%load_ext tensorboard\n",
    "%tensorboard --logdir logs\n",
    "\n",
    "from torch.utils.tensorboard import SummaryWriter\n",
    "writer = SummaryWriter('logs')"
   ]
  },
  {
   "cell_type": "code",
   "execution_count": null,
   "metadata": {},
   "outputs": [],
   "source": []
  }
 ],
 "metadata": {
  "kernelspec": {
   "display_name": "Python 3.10.6 64-bit",
   "language": "python",
   "name": "python3"
  },
  "language_info": {
   "codemirror_mode": {
    "name": "ipython",
    "version": 3
   },
   "file_extension": ".py",
   "mimetype": "text/x-python",
   "name": "python",
   "nbconvert_exporter": "python",
   "pygments_lexer": "ipython3",
   "version": "3.10.6"
  },
  "orig_nbformat": 4,
  "vscode": {
   "interpreter": {
    "hash": "916dbcbb3f70747c44a77c7bcd40155683ae19c65e1c03b4aa3499c5328201f1"
   }
  }
 },
 "nbformat": 4,
 "nbformat_minor": 2
}
